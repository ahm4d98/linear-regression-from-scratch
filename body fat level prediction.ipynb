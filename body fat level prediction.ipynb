{
 "cells": [
  {
   "cell_type": "markdown",
   "metadata": {},
   "source": [
    "# import neccessary libraries"
   ]
  },
  {
   "cell_type": "code",
   "execution_count": 1,
   "metadata": {},
   "outputs": [],
   "source": [
    "import pandas as pd\n",
    "import numpy as np"
   ]
  },
  {
   "cell_type": "markdown",
   "metadata": {},
   "source": [
    "# load dataset"
   ]
  },
  {
   "cell_type": "code",
   "execution_count": 2,
   "metadata": {},
   "outputs": [],
   "source": [
    "data = pd.read_csv(r\"Bodyfat-Levels.csv\")\n",
    "df = pd.DataFrame(data)\n",
    "df_test = data.sample(frac = 0.1, random_state = 4)\n",
    "df_train = pd.concat([df, df_test]).drop_duplicates(keep=False)\n"
   ]
  },
  {
   "cell_type": "code",
   "execution_count": 3,
   "metadata": {},
   "outputs": [
    {
     "data": {
      "text/plain": [
       "25"
      ]
     },
     "execution_count": 3,
     "metadata": {},
     "output_type": "execute_result"
    }
   ],
   "source": [
    "len(df_test)"
   ]
  },
  {
   "cell_type": "code",
   "execution_count": 4,
   "metadata": {},
   "outputs": [
    {
     "data": {
      "text/plain": [
       "225"
      ]
     },
     "execution_count": 4,
     "metadata": {},
     "output_type": "execute_result"
    }
   ],
   "source": [
    "len(df_train)"
   ]
  },
  {
   "cell_type": "markdown",
   "metadata": {},
   "source": [
    "# implementing f(x)"
   ]
  },
  {
   "cell_type": "code",
   "execution_count": 5,
   "metadata": {},
   "outputs": [],
   "source": [
    "def hypothesis(theta, X):\n",
    "    return 1 / (1 + np.exp(-(np.dot(theta, X.T))))"
   ]
  },
  {
   "cell_type": "markdown",
   "metadata": {},
   "source": [
    "# cost function"
   ]
  },
  {
   "cell_type": "code",
   "execution_count": 6,
   "metadata": {},
   "outputs": [],
   "source": [
    "def cost(X, y, theta):\n",
    "    y1 = hypothesis(X, theta)\n",
    "    return -(1/len(X)) * np.sum(y*np.log(y1) + (1-y)*np.log(1-y1))"
   ]
  },
  {
   "cell_type": "markdown",
   "metadata": {},
   "source": [
    "# gradient descent"
   ]
  },
  {
   "cell_type": "code",
   "execution_count": 7,
   "metadata": {},
   "outputs": [],
   "source": [
    "def gradient_descent(X, y1, theta, alpha, epochs):\n",
    "    m = len(X)\n",
    "    for i in range(0, epochs):\n",
    "        for j in range(0,y1.shape[1]):\n",
    "            theta = pd.DataFrame(theta)\n",
    "            h = hypothesis(theta.iloc[:,j], X)\n",
    "            for k in range(0, theta.shape[0]):\n",
    "                theta.iloc[k, j] -= (alpha/m) * np.sum((h-y1.iloc[:, j])*X[:, k])\n",
    "            theta = pd.DataFrame(theta)\n",
    "    return theta"
   ]
  },
  {
   "cell_type": "markdown",
   "metadata": {},
   "source": [
    "# training"
   ]
  },
  {
   "cell_type": "code",
   "execution_count": 8,
   "metadata": {},
   "outputs": [],
   "source": [
    "#Train\n",
    "X = df_train.drop(['bodyfatlevel','level'], axis=1)\n",
    "pd.DataFrame(X)\n",
    "y = df_train['bodyfatlevel']\n",
    "\n",
    "#Add bias\n",
    "X = np.c_[np.ones((X.shape[0], 1)), X]\n",
    "\n",
    "#redefine y\n",
    "y_modi = []\n",
    "\n",
    "for i in y:\n",
    "    for j in range(len(y.unique())):\n",
    "        if i == y.unique()[j]:\n",
    "            y_modi.append(j)\n",
    "            "
   ]
  },
  {
   "cell_type": "code",
   "execution_count": 9,
   "metadata": {},
   "outputs": [],
   "source": [
    "y1 = np.zeros([X.shape[0], len(y.unique())])\n",
    "y1 = pd.DataFrame(y1)"
   ]
  },
  {
   "cell_type": "code",
   "execution_count": 10,
   "metadata": {},
   "outputs": [],
   "source": [
    "for i in range(len(y1)): #(0,225)\n",
    "    for j in range(len(y.unique())): #(0,5)\n",
    "        if y_modi[i] == j:\n",
    "            y1.iloc[i, j] = 1\n",
    "        else: \n",
    "            y1.iloc[i, j] = 0"
   ]
  },
  {
   "cell_type": "markdown",
   "metadata": {},
   "source": [
    "# calculationg theta "
   ]
  },
  {
   "cell_type": "code",
   "execution_count": 11,
   "metadata": {
    "scrolled": true
   },
   "outputs": [
    {
     "name": "stderr",
     "output_type": "stream",
     "text": [
      "<ipython-input-5-30f52d1f64cf>:2: RuntimeWarning: overflow encountered in exp\n",
      "  return 1 / (1 + np.exp(-(np.dot(theta, X.T))))\n"
     ]
    }
   ],
   "source": [
    "theta = np.zeros([X.shape[1], y1.shape[1]])\n",
    "theta = gradient_descent(X, y1, theta, 0.01, 500)"
   ]
  },
  {
   "cell_type": "markdown",
   "metadata": {},
   "source": [
    "# testing phase"
   ]
  },
  {
   "cell_type": "code",
   "execution_count": 12,
   "metadata": {},
   "outputs": [],
   "source": [
    "# Test\n",
    "X = df_test.drop(['bodyfatlevel','level'], axis=1)\n",
    "pd.DataFrame(X)\n",
    "y = df_test['bodyfatlevel']\n",
    "\n",
    "#Add bias\n",
    "X = np.c_[np.ones((X.shape[0], 1)), X]\n",
    "\n",
    "#redefine y\n",
    "y_modi = []\n",
    "\n",
    "for i in y:\n",
    "    for j in range(len(y.unique())):\n",
    "        if i == y.unique()[j]:\n",
    "            y_modi.append(j)\n",
    "            "
   ]
  },
  {
   "cell_type": "code",
   "execution_count": 13,
   "metadata": {},
   "outputs": [],
   "source": [
    "y1 = np.zeros([X.shape[0], len(y.unique())])\n",
    "y1 = pd.DataFrame(y1)"
   ]
  },
  {
   "cell_type": "code",
   "execution_count": 14,
   "metadata": {},
   "outputs": [],
   "source": [
    "for i in range(len(y1)): #(0,225)\n",
    "    for j in range(len(y.unique())): #(0,5)\n",
    "        if y_modi[i] == j:\n",
    "            y1.iloc[i, j] = 1\n",
    "        else: \n",
    "            y1.iloc[i, j] = 0"
   ]
  },
  {
   "cell_type": "markdown",
   "metadata": {},
   "source": [
    "# applying gradient descent "
   ]
  },
  {
   "cell_type": "code",
   "execution_count": 15,
   "metadata": {},
   "outputs": [],
   "source": [
    "theta1 = theta\n",
    "theta1 = gradient_descent(X, y1, theta1, 0.001, 1000)"
   ]
  },
  {
   "cell_type": "code",
   "execution_count": 16,
   "metadata": {},
   "outputs": [],
   "source": [
    "output = []\n",
    "for i in range(0, y1.shape[1]):\n",
    "    h = hypothesis(theta1.iloc[:,i], X)\n",
    "    output.append(h)\n",
    "output=pd.DataFrame(output)"
   ]
  },
  {
   "cell_type": "code",
   "execution_count": 17,
   "metadata": {},
   "outputs": [
    {
     "name": "stdout",
     "output_type": "stream",
     "text": [
      "Accuracy =  68.0\n"
     ]
    }
   ],
   "source": [
    "accuracy = 0\n",
    "for col in range(0, y1.shape[1]):\n",
    "    for row in range(len(y1)):\n",
    "        if y1.iloc[row, col] == 1 and output.iloc[col, row] >= 0.5:\n",
    "            accuracy += 1\n",
    "accuracy = accuracy/len(X)\n",
    "print (\"Accuracy = \",accuracy*100)"
   ]
  },
  {
   "cell_type": "code",
   "execution_count": null,
   "metadata": {},
   "outputs": [],
   "source": []
  },
  {
   "cell_type": "code",
   "execution_count": null,
   "metadata": {},
   "outputs": [],
   "source": []
  }
 ],
 "metadata": {
  "kernelspec": {
   "display_name": "Python 3",
   "language": "python",
   "name": "python3"
  },
  "language_info": {
   "codemirror_mode": {
    "name": "ipython",
    "version": 3
   },
   "file_extension": ".py",
   "mimetype": "text/x-python",
   "name": "python",
   "nbconvert_exporter": "python",
   "pygments_lexer": "ipython3",
   "version": "3.8.5"
  }
 },
 "nbformat": 4,
 "nbformat_minor": 4
}
