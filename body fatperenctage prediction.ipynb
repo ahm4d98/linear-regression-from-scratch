{
 "cells": [
  {
   "cell_type": "markdown",
   "metadata": {},
   "source": [
    "# import necessary libraries"
   ]
  },
  {
   "cell_type": "code",
   "execution_count": 1,
   "metadata": {},
   "outputs": [],
   "source": [
    "import pandas"
   ]
  },
  {
   "cell_type": "markdown",
   "metadata": {},
   "source": [
    "# load data and splitting it "
   ]
  },
  {
   "cell_type": "code",
   "execution_count": 2,
   "metadata": {},
   "outputs": [],
   "source": [
    "data = pandas.read_csv(\"Bodyfat-Percentage.csv\")\n",
    "df = pandas.DataFrame(data)\n",
    "df_test = df.sample(frac = 0.1)\n",
    "df_train = pandas.concat([df, df_test]).drop_duplicates(keep=False)\n"
   ]
  },
  {
   "cell_type": "markdown",
   "metadata": {},
   "source": [
    "# linear regression hypothesis function h=sum(theta*X)"
   ]
  },
  {
   "cell_type": "code",
   "execution_count": 9,
   "metadata": {},
   "outputs": [],
   "source": [
    "def calc_h(X, theta):\n",
    "    h = theta[0]\n",
    "    for j in range(len(X.columns)):\n",
    "        h += theta[j+1]*X.iloc[:,j]\n",
    "        \n",
    "    return h"
   ]
  },
  {
   "cell_type": "markdown",
   "metadata": {},
   "source": [
    "# calculate theta "
   ]
  },
  {
   "cell_type": "code",
   "execution_count": 4,
   "metadata": {},
   "outputs": [],
   "source": [
    "def calc_theta(X, theta, h, y):\n",
    "    theta[0] = theta[0] - alpha * (1/y.size) * ( sum(h-y) )\n",
    "    for j in range(len(X.columns)):\n",
    "        theta[j+1] = theta[j+1] - alpha * (1/y.size) * ( sum((h-y) * X.iloc[:,j]) )\n",
    "        \n",
    "    return theta"
   ]
  },
  {
   "cell_type": "markdown",
   "metadata": {},
   "source": [
    "# calculate mean square Error"
   ]
  },
  {
   "cell_type": "code",
   "execution_count": 10,
   "metadata": {},
   "outputs": [],
   "source": [
    "def calc_error(X, y, theta):\n",
    "    h = calc_h(X, theta)\n",
    "    J=(1/(2*y.size)) * sum( (h-y)**2 )\n",
    "    return J"
   ]
  },
  {
   "cell_type": "markdown",
   "metadata": {},
   "source": [
    "# gradient descent "
   ]
  },
  {
   "cell_type": "code",
   "execution_count": 6,
   "metadata": {},
   "outputs": [],
   "source": [
    "def gradient_descent(X, y, theta, alpha, num_iters):\n",
    "    errors=[]\n",
    "    for i in range (num_iters):\n",
    "        h = calc_h(X, theta)\n",
    "        theta = calc_theta(X, theta, h, y)\n",
    "        calc_error(X, y, theta)\n",
    "        errors.append(calc_error(X,y,theta))\n",
    "        \n",
    "    return theta,errors"
   ]
  },
  {
   "cell_type": "code",
   "execution_count": 11,
   "metadata": {},
   "outputs": [],
   "source": [
    "#Train\n",
    "X = df_train.drop('bodyfat', axis=1)\n",
    "y = df_train['bodyfat']\n",
    "\n",
    "theta = [0] * (len(X.columns)+1)\n",
    "\n",
    "iterations = 1200\n",
    "alpha = 0.00001\n",
    "\n",
    "theta, errors = gradient_descent(X, y, theta, alpha, iterations)\n"
   ]
  },
  {
   "cell_type": "markdown",
   "metadata": {},
   "source": [
    "# testing "
   ]
  },
  {
   "cell_type": "code",
   "execution_count": 12,
   "metadata": {},
   "outputs": [],
   "source": [
    "#Test\n",
    "X = df_test.drop('bodyfat', axis=1)\n",
    "y = df_test['bodyfat']\n",
    "\n",
    "iterations = 1200\n",
    "alpha = 0.00001\n",
    "\n",
    "theta, errors = gradient_descent(X, y, theta, alpha, iterations)\n"
   ]
  },
  {
   "cell_type": "markdown",
   "metadata": {},
   "source": [
    "# training"
   ]
  },
  {
   "cell_type": "code",
   "execution_count": 14,
   "metadata": {},
   "outputs": [
    {
     "name": "stdout",
     "output_type": "stream",
     "text": [
      "Accuracy =  90.54065190395704\n"
     ]
    }
   ],
   "source": [
    "# display final error of optimized h \n",
    "print (\"Accuracy = \",100 - errors[-1])\n"
   ]
  },
  {
   "cell_type": "code",
   "execution_count": null,
   "metadata": {},
   "outputs": [],
   "source": []
  }
 ],
 "metadata": {
  "kernelspec": {
   "display_name": "Python 3",
   "language": "python",
   "name": "python3"
  },
  "language_info": {
   "codemirror_mode": {
    "name": "ipython",
    "version": 3
   },
   "file_extension": ".py",
   "mimetype": "text/x-python",
   "name": "python",
   "nbconvert_exporter": "python",
   "pygments_lexer": "ipython3",
   "version": "3.8.5"
  }
 },
 "nbformat": 4,
 "nbformat_minor": 4
}
